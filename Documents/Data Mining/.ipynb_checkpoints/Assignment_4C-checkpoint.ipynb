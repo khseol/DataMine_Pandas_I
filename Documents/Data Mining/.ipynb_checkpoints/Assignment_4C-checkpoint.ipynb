{
 "cells": [
  {
   "cell_type": "code",
   "execution_count": 48,
   "metadata": {},
   "outputs": [
    {
     "name": "stdout",
     "output_type": "stream",
     "text": [
      "hello\n"
     ]
    }
   ],
   "source": [
    "print('hello')"
   ]
  },
  {
   "cell_type": "code",
   "execution_count": 49,
   "metadata": {},
   "outputs": [
    {
     "data": {
      "text/plain": [
       "EdgeView([(0, 1), (0, 3), (1, 2)])"
      ]
     },
     "execution_count": 49,
     "metadata": {},
     "output_type": "execute_result"
    }
   ],
   "source": [
    "#import pandas as pd\n",
    "import networkx as nx\n",
    "\n",
    "st_graph = nx.Graph()\n",
    "#to see what happens when there are repeating valuse for an undirected graph\n",
    "test = nx.Graph()\n",
    "test_arrs = [[0,1],[2,1],[0,3],[0,1],[1,0]]\n",
    "for i in range(len(test_arrs)):\n",
    "    test.add_edge(test_arrs[i][0],test_arrs[i][1])\n",
    "test.edges"
   ]
  },
  {
   "cell_type": "code",
   "execution_count": 50,
   "metadata": {},
   "outputs": [],
   "source": [
    "def getKey(my_dict, val):\n",
    "    for key, value in my_dict.items():\n",
    "        if val == value:\n",
    "            return key\n",
    "    return 'you did something wrong here'"
   ]
  },
  {
   "cell_type": "code",
   "execution_count": 59,
   "metadata": {},
   "outputs": [
    {
     "name": "stdout",
     "output_type": "stream",
     "text": [
      "490\n",
      "number of nodes: 115\n",
      "number of nodes: 245\n"
     ]
    }
   ],
   "source": [
    "nodes = []\n",
    "#data = pd.read_csv('stack_overflow_edgelist.csv')\n",
    "with open('stack_overflow_edgelist.csv') as in_file:\n",
    "    for line in in_file:\n",
    "        if 'source' in line:\n",
    "            if 'target' in line:\n",
    "                if 'value' in line:\n",
    "                    continue\n",
    "        else:\n",
    "            temp = line\n",
    "            temp = temp.split(',')\n",
    "            line = temp\n",
    "            nodes.append(line)\n",
    "count = 0 \n",
    "#the file does contain some values that repeat but are in different order.\n",
    "for i in range(len(nodes)): \n",
    "    count+=1\n",
    "    st_graph.add_edge(nodes[i][0],nodes[i][1],weighted = nodes[i][2])\n",
    "\n",
    "print(count)\n",
    "print('number of nodes: {}'.format(st_graph.number_of_nodes()))\n",
    "print('number of nodes: {}'.format(st_graph.number_of_edges()))"
   ]
  },
  {
   "cell_type": "code",
   "execution_count": 57,
   "metadata": {},
   "outputs": [
    {
     "name": "stdout",
     "output_type": "stream",
     "text": [
      "the bottom 10 nodes:\n",
      "1: photoshop\t\t0.002197674921826388\n",
      "2: mvc\t\t0.0022396967778433095\n",
      "3: ionic-framework\t\t0.0022756707719513254\n",
      "4: drupal\t\t0.002313937731082493\n",
      "5: xamarin\t\t0.0023259748514813656\n",
      "6: xamarin\t\t0.0023259748514813656\n",
      "7: xamarin\t\t0.0023259748514813656\n",
      "8: vue.js\t\t0.0025000176684403575\n",
      "9: xml\t\t0.0026185643422792326\n",
      "10: api\t\t0.002732760704091121\n"
     ]
    }
   ],
   "source": [
    "#the bottom 10\n",
    "pr = nx.pagerank(st_graph, alpha = 0.9)\n",
    "count = 1\n",
    "print('the bottom 10 nodes:')\n",
    "for i in sorted(pr.values()):\n",
    "    print(str(count) + ': ' + getKey(pr,i) + '\\t\\t' + str(i))\n",
    "    count+=1\n",
    "    if count == 11:\n",
    "        break"
   ]
  },
  {
   "cell_type": "code",
   "execution_count": 53,
   "metadata": {},
   "outputs": [
    {
     "name": "stdout",
     "output_type": "stream",
     "text": [
      "The top 10 nodes:\n",
      "1: linux\t\t0.024441964235935722\n",
      "2: jquery\t\t0.023352079507991515\n",
      "3: c#\t\t0.02265714933828647\n",
      "4: css\t\t0.020662198202053658\n",
      "5: angularjs\t\t0.02031561720808745\n",
      "6: asp.net\t\t0.019792633756092727\n",
      "7: python\t\t0.017450528274522557\n",
      "8: mysql\t\t0.017162629615073036\n",
      "9: hibernate\t\t0.01712707458693977\n",
      "10: hibernate\t\t0.01712707458693977\n"
     ]
    }
   ],
   "source": [
    "print('The top 10 nodes:')\n",
    "count = 1\n",
    "for i in sorted(pr.values(),reverse=True):\n",
    "    print(str(count) + ': ' + getKey(pr,i) + '\\t\\t' + str(i))\n",
    "    count+=1\n",
    "    if count == 11:\n",
    "        break"
   ]
  },
  {
   "cell_type": "code",
   "execution_count": null,
   "metadata": {},
   "outputs": [],
   "source": []
  },
  {
   "cell_type": "code",
   "execution_count": null,
   "metadata": {},
   "outputs": [],
   "source": []
  }
 ],
 "metadata": {
  "kernelspec": {
   "display_name": "Python 3",
   "language": "python",
   "name": "python3"
  },
  "language_info": {
   "codemirror_mode": {
    "name": "ipython",
    "version": 3
   },
   "file_extension": ".py",
   "mimetype": "text/x-python",
   "name": "python",
   "nbconvert_exporter": "python",
   "pygments_lexer": "ipython3",
   "version": "3.7.4"
  }
 },
 "nbformat": 4,
 "nbformat_minor": 2
}

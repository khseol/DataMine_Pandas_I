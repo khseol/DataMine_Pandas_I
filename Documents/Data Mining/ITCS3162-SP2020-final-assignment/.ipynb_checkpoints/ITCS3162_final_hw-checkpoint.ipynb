{
 "cells": [
  {
   "cell_type": "markdown",
   "metadata": {},
   "source": [
    "### Before submitting the assignment, add your UNCC username to the end of the file name.<br>Ex: ITCS3162_final_hw_jmelto30.ipynb"
   ]
  },
  {
   "cell_type": "markdown",
   "metadata": {
    "collapsed": true
   },
   "source": [
    "# Part 1: Classification\n",
    "\n",
    "For this assignment, you will fit classification models to predict the political party of U.S. Representatives using past voting records.  \n",
    "\n",
    "The dataset for this analysis is *voting_data.csv*.\n",
    "\n",
    "The **Class Name** column contains the political party for each representative, which will be our label column for this analysis.  \n",
    "The remaining columns will form our feature set."
   ]
  },
  {
   "cell_type": "markdown",
   "metadata": {},
   "source": [
    "## Read in the data\n",
    "\n",
    "In the code cell below, read the voting data into a pandas dataframe."
   ]
  },
  {
   "cell_type": "code",
   "execution_count": null,
   "metadata": {},
   "outputs": [],
   "source": []
  },
  {
   "cell_type": "markdown",
   "metadata": {},
   "source": [
    "## Clean up the data\n",
    "\n",
    "Encode features as numeric values:\n",
    "- Replace 'y' votes with 1\n",
    "- Replace 'n' votes with 0\n",
    "- Replace '?' votes with NaN (use np.nan)"
   ]
  },
  {
   "cell_type": "code",
   "execution_count": null,
   "metadata": {},
   "outputs": [],
   "source": []
  },
  {
   "cell_type": "markdown",
   "metadata": {},
   "source": [
    "Encode labels as numeric values:\n",
    "- Replace 'republican' with 1\n",
    "- Replace 'democrat' with 0"
   ]
  },
  {
   "cell_type": "code",
   "execution_count": null,
   "metadata": {},
   "outputs": [],
   "source": []
  },
  {
   "cell_type": "markdown",
   "metadata": {},
   "source": [
    "## Handling missing values\n",
    "\n",
    "Replace the missing values with a third category (use 2)."
   ]
  },
  {
   "cell_type": "code",
   "execution_count": null,
   "metadata": {},
   "outputs": [],
   "source": []
  },
  {
   "cell_type": "markdown",
   "metadata": {},
   "source": [
    "**Question:** What do missing values in this dataset represent? Why does retaining the missing values as a third category make sense for this data?"
   ]
  },
  {
   "cell_type": "markdown",
   "metadata": {},
   "source": []
  },
  {
   "cell_type": "markdown",
   "metadata": {},
   "source": [
    "## Split the data into feature and label sets\n",
    "\n",
    "Create feature and label sets of data with the appropriate columns."
   ]
  },
  {
   "cell_type": "code",
   "execution_count": null,
   "metadata": {},
   "outputs": [],
   "source": []
  },
  {
   "cell_type": "markdown",
   "metadata": {},
   "source": [
    "## Divide features and labels into training and test sets\n",
    "\n",
    "Split the features and labels into training and test datasets.  \n",
    "Use 20% of the data as a test set."
   ]
  },
  {
   "cell_type": "code",
   "execution_count": null,
   "metadata": {},
   "outputs": [],
   "source": []
  },
  {
   "cell_type": "markdown",
   "metadata": {},
   "source": [
    "## Fit Decision Tree classifier\n",
    "\n",
    "Initialize and fit a Decision Tree classifier on your training dataset."
   ]
  },
  {
   "cell_type": "code",
   "execution_count": null,
   "metadata": {},
   "outputs": [],
   "source": []
  },
  {
   "cell_type": "markdown",
   "metadata": {},
   "source": [
    "## Evaluate Decision Tree classifier\n",
    "\n",
    "Use cross validation on your entire dataset (see [cross validate](https://scikit-learn.org/stable/modules/generated/sklearn.model_selection.cross_validate.html) or [cross val score](https://scikit-learn.org/stable/modules/generated/sklearn.model_selection.cross_val_score.html) documentation) to report the mean F1, precision, and recall scores across all folds."
   ]
  },
  {
   "cell_type": "code",
   "execution_count": null,
   "metadata": {},
   "outputs": [],
   "source": []
  },
  {
   "cell_type": "markdown",
   "metadata": {},
   "source": [
    "## Fit Naive Bayes classifier\n",
    "\n",
    "**Question:** Look at scikit learn's documentation for [Naive Bayes](https://scikit-learn.org/stable/modules/naive_bayes.html) and the lecture slides for Naive Bayes. Given the data type of our feature columns, which type of Naive Bayes classifier is appropriate for our dataset?"
   ]
  },
  {
   "cell_type": "markdown",
   "metadata": {},
   "source": []
  },
  {
   "cell_type": "markdown",
   "metadata": {},
   "source": [
    "Initialize and fit a Naive Bayes classifier on your training dataset. "
   ]
  },
  {
   "cell_type": "code",
   "execution_count": null,
   "metadata": {},
   "outputs": [],
   "source": []
  },
  {
   "cell_type": "markdown",
   "metadata": {},
   "source": [
    "## Evaluate Naive Bayes classifier\n",
    "\n",
    "Use cross validation on your entire dataset (see [cross validate](https://scikit-learn.org/stable/modules/generated/sklearn.model_selection.cross_validate.html) or [cross val score](https://scikit-learn.org/stable/modules/generated/sklearn.model_selection.cross_val_score.html) documentation) to report the mean F1, precision, and recall scores across all folds."
   ]
  },
  {
   "cell_type": "code",
   "execution_count": null,
   "metadata": {},
   "outputs": [],
   "source": []
  },
  {
   "cell_type": "markdown",
   "metadata": {},
   "source": [
    "**Question:** Which classifier model performed better on the voting dataset? Why do you think this is?"
   ]
  },
  {
   "cell_type": "markdown",
   "metadata": {},
   "source": []
  },
  {
   "cell_type": "markdown",
   "metadata": {},
   "source": [
    "## *Bonus*\n",
    "\n",
    "Predict the class label using your test dataset with both models.\n",
    "\n",
    "Report the classification report and accuracy for your model. See [classification report](https://scikit-learn.org/stable/modules/generated/sklearn.metrics.classification_report.html) and [accuracy score](https://scikit-learn.org/stable/modules/generated/sklearn.metrics.accuracy_score.html)."
   ]
  },
  {
   "cell_type": "code",
   "execution_count": null,
   "metadata": {},
   "outputs": [],
   "source": []
  },
  {
   "cell_type": "markdown",
   "metadata": {},
   "source": [
    "**Question:** Which classifier model performed better on the test dataset?"
   ]
  },
  {
   "cell_type": "markdown",
   "metadata": {},
   "source": []
  },
  {
   "cell_type": "markdown",
   "metadata": {},
   "source": [
    "***\n",
    "\n",
    "# Part 2: Regression\n",
    "\n",
    "For this assignment, you will fit regression models to predict the daily count of bike riders.\n",
    "\n",
    "The dataset for this analysis is *day_clean.csv*.\n",
    "\n",
    "The **cnt** column contains the total count of bike riders on a given day, which will be our label column for this analysis."
   ]
  },
  {
   "cell_type": "markdown",
   "metadata": {},
   "source": [
    "## Read in the data\n",
    "\n",
    "In the code cell below, read the daily bike data into a pandas dataframe."
   ]
  },
  {
   "cell_type": "code",
   "execution_count": null,
   "metadata": {},
   "outputs": [],
   "source": []
  },
  {
   "cell_type": "markdown",
   "metadata": {},
   "source": [
    "## Individual feature selection\n",
    "\n",
    "Choose three columns from the dataset that you think will be the best predictors of bike ridership count.  \n",
    "Look at the *Readme.txt* for more information about the dataset.\n",
    "\n",
    "**Question:** Justify why you selected these three columns."
   ]
  },
  {
   "cell_type": "markdown",
   "metadata": {},
   "source": []
  },
  {
   "cell_type": "markdown",
   "metadata": {},
   "source": [
    "## Split the data into feature and label sets\n",
    "\n",
    "Create a labels dataset.  \n",
    "Create your three single feature sets using each of the three columns you have selected."
   ]
  },
  {
   "cell_type": "code",
   "execution_count": null,
   "metadata": {},
   "outputs": [],
   "source": []
  },
  {
   "cell_type": "markdown",
   "metadata": {},
   "source": [
    "## For each single feature set, divide the features and labels into training and test sets\n",
    "\n",
    "Split the feature and label sets into training and test sets.  \n",
    "Use 20% of the data as a test set."
   ]
  },
  {
   "cell_type": "code",
   "execution_count": null,
   "metadata": {},
   "outputs": [],
   "source": []
  },
  {
   "cell_type": "markdown",
   "metadata": {},
   "source": [
    "## Fit simple Linear Regression models\n",
    "\n",
    "For each of your single feature sets, initialize and fit a Linear Regression model on your training dataset."
   ]
  },
  {
   "cell_type": "code",
   "execution_count": null,
   "metadata": {},
   "outputs": [],
   "source": []
  },
  {
   "cell_type": "markdown",
   "metadata": {},
   "source": [
    "## Evaluate simple Linear Regression models\n",
    "\n",
    "For each model, predict the ridership count using your test dataset.  \n",
    "Report the mean squared error for each model on the test dataset. See [mean squared error](https://scikit-learn.org/stable/modules/generated/sklearn.metrics.mean_squared_error.html) documentation."
   ]
  },
  {
   "cell_type": "code",
   "execution_count": null,
   "metadata": {},
   "outputs": [],
   "source": []
  },
  {
   "cell_type": "markdown",
   "metadata": {},
   "source": [
    "## Simple Linear Regression scatterplot\n",
    "\n",
    "Using the best predictive feature from your simple Linear Regression models, plot a scatterplot of that feature vs. the ridership count.  \n",
    "\n",
    "***Bonus:*** Include the best-fit line from your model in your scatterplot."
   ]
  },
  {
   "cell_type": "code",
   "execution_count": null,
   "metadata": {},
   "outputs": [],
   "source": []
  },
  {
   "cell_type": "markdown",
   "metadata": {},
   "source": [
    "## Multiple Linear Regression\n",
    "\n",
    "Create a feature set using all predictor columns."
   ]
  },
  {
   "cell_type": "code",
   "execution_count": null,
   "metadata": {},
   "outputs": [],
   "source": []
  },
  {
   "cell_type": "markdown",
   "metadata": {},
   "source": [
    "## Divide the feature set and labels into training and test sets\n",
    "\n",
    "Split the features and labels into training and test datasets.  \n",
    "Use 20% of the data as a test set."
   ]
  },
  {
   "cell_type": "code",
   "execution_count": null,
   "metadata": {},
   "outputs": [],
   "source": []
  },
  {
   "cell_type": "markdown",
   "metadata": {},
   "source": [
    "## Fit multiple Linear Regression model\n",
    "\n",
    "Initialize and fit a Linear Regression model on your training dataset."
   ]
  },
  {
   "cell_type": "code",
   "execution_count": null,
   "metadata": {},
   "outputs": [],
   "source": []
  },
  {
   "cell_type": "markdown",
   "metadata": {},
   "source": [
    "## Evalute multiple Linear Regression model\n",
    "\n",
    "Predict the ridership count using your test dataset.  \n",
    "Report the mean squared error of your model on the test dataset. See [mean squared error](https://scikit-learn.org/stable/modules/generated/sklearn.metrics.mean_squared_error.html) documentation."
   ]
  },
  {
   "cell_type": "code",
   "execution_count": null,
   "metadata": {},
   "outputs": [],
   "source": []
  },
  {
   "cell_type": "markdown",
   "metadata": {},
   "source": [
    "**Question:** Which of your models performed best overall?"
   ]
  },
  {
   "cell_type": "markdown",
   "metadata": {},
   "source": []
  }
 ],
 "metadata": {
  "kernelspec": {
   "display_name": "Python 3",
   "language": "python",
   "name": "python3"
  },
  "language_info": {
   "codemirror_mode": {
    "name": "ipython",
    "version": 3
   },
   "file_extension": ".py",
   "mimetype": "text/x-python",
   "name": "python",
   "nbconvert_exporter": "python",
   "pygments_lexer": "ipython3",
   "version": "3.7.4"
  }
 },
 "nbformat": 4,
 "nbformat_minor": 1
}
